{
  "nbformat": 4,
  "nbformat_minor": 0,
  "metadata": {
    "colab": {
      "name": "divineai.ipynb",
      "provenance": [],
      "authorship_tag": "ABX9TyO1f6A0Lfov5/MSYy+0sxaA",
      "include_colab_link": true
    },
    "kernelspec": {
      "name": "python3",
      "display_name": "Python 3"
    },
    "language_info": {
      "name": "python"
    }
  },
  "cells": [
    {
      "cell_type": "markdown",
      "metadata": {
        "id": "view-in-github",
        "colab_type": "text"
      },
      "source": [
        "<a href=\"https://colab.research.google.com/github/pranabkumarbehera/DivineAI/blob/main/while.ipynb\" target=\"_parent\"><img src=\"https://colab.research.google.com/assets/colab-badge.svg\" alt=\"Open In Colab\"/></a>"
      ]
    },
    {
      "cell_type": "code",
      "metadata": {
        "colab": {
          "base_uri": "https://localhost:8080/"
        },
        "id": "-yIWBOBcTLj0",
        "outputId": "7197c073-25d0-4e8f-9c5e-c94dd93026cc"
      },
      "source": [
        "print(type(8))\n",
        "print(type(8.0))\n",
        "\n",
        "x, y = 10, 5\n",
        "print(x, y)\n",
        "\n",
        "x, y = y, x\n",
        "print(x, y)"
      ],
      "execution_count": 1,
      "outputs": [
        {
          "output_type": "stream",
          "text": [
            "<class 'int'>\n",
            "<class 'float'>\n",
            "10 5\n",
            "5 10\n"
          ],
          "name": "stdout"
        }
      ]
    },
    {
      "cell_type": "code",
      "metadata": {
        "colab": {
          "base_uri": "https://localhost:8080/"
        },
        "id": "4JGYKdNoTNah",
        "outputId": "b1e1699d-3f6f-4ce2-f571-8a30c2a8a2ce"
      },
      "source": [
        "divisor, divident = 2, 1\n",
        "ans = divident / divisor\n",
        "print(ans)\n",
        "a, b, c, d = 2, 3, 4, 5\n",
        "\n",
        "ans = a + b * c / d\n",
        "print(ans)\n",
        "\n",
        "# ** is power\n",
        "exp = a ** b\n",
        "print(exp)\n",
        "\n",
        "mod = b % a\n",
        "print(mod)\n",
        "\n",
        "# // returns integer division result\n",
        "intDiv = d // a\n",
        "# / returns float division result\n",
        "div = d / a\n",
        "print(div, intDiv)"
      ],
      "execution_count": 2,
      "outputs": [
        {
          "output_type": "stream",
          "text": [
            "0.5\n",
            "4.4\n",
            "8\n",
            "1\n",
            "2.5 2\n"
          ],
          "name": "stdout"
        }
      ]
    },
    {
      "cell_type": "code",
      "metadata": {
        "colab": {
          "base_uri": "https://localhost:8080/"
        },
        "id": "zfnv_JSvWHof",
        "outputId": "b57bbdfd-d744-4742-8757-5853e681a0e1"
      },
      "source": [
        "num = 99\n",
        "print(num * 2)\n",
        "print(num)\n",
        "\n",
        "num *= 2\n",
        "print(num)\n",
        "\n",
        "#Naming Convension\n",
        "#snake_case\n",
        "snake_case = 10\n",
        "\n",
        "#for constants\n",
        "CAPITAL_SNAKE_CASE, PI = 100, 3.14159603\n",
        "#for class\n",
        "class UpperCamelCase:\n",
        "    pass\n",
        "\n",
        "#dunders ('d'ouble 'unders'cores) means something u shouldn't touch\n"
      ],
      "execution_count": 3,
      "outputs": [
        {
          "output_type": "stream",
          "text": [
            "198\n",
            "99\n",
            "198\n"
          ],
          "name": "stdout"
        }
      ]
    },
    {
      "cell_type": "code",
      "metadata": {
        "colab": {
          "base_uri": "https://localhost:8080/"
        },
        "id": "h1eMV0BAXANi",
        "outputId": "c3f3d844-87ae-4004-edf9-57e9fc27fad7"
      },
      "source": [
        "'''\n",
        "bool\n",
        "int\n",
        "str\n",
        "list\n",
        "dict\n",
        "'''\n",
        "\n",
        "#bool\n",
        "is_active = True\n",
        "inactive = not is_active\n",
        "print(is_active)\n",
        "print(not is_active)\n",
        "print(inactive)\n",
        "print(not inactive)\n",
        "\n",
        "#str\n",
        "some_string = \"hello i am srting!\"\n",
        "print(some_string)\n",
        "\n",
        "#list\n",
        "my_number = [1, 2, 4, 3]\n",
        "print(my_number)\n",
        "print(my_number[2])\n",
        "\n",
        "#dict\n",
        "my_name = {'first_name': \"Humayun\", 'last_name': \"Kabir\"}\n",
        "print(my_name)\n",
        "print(my_name['first_name'])\n",
        "print(my_name['last_name'])"
      ],
      "execution_count": 4,
      "outputs": [
        {
          "output_type": "stream",
          "text": [
            "True\n",
            "False\n",
            "False\n",
            "True\n",
            "hello i am srting!\n",
            "[1, 2, 4, 3]\n",
            "4\n",
            "{'first_name': 'Humayun', 'last_name': 'Kabir'}\n",
            "Humayun\n",
            "Kabir\n"
          ],
          "name": "stdout"
        }
      ]
    },
    {
      "cell_type": "code",
      "metadata": {
        "colab": {
          "base_uri": "https://localhost:8080/"
        },
        "id": "lOQwSngOXcll",
        "outputId": "e67554fe-0284-4853-b875-7898e2377bcb"
      },
      "source": [
        "game_over = True\n",
        "print(game_over)\n",
        "\n",
        "game_over = \"Yes, it's over!\"\n",
        "print(game_over)\n",
        "\n",
        "game_over = 22/7\n",
        "print(game_over)\n",
        "\n",
        "#None is nothing\n",
        "game_over = None\n",
        "print(game_over)\n",
        "print(type(game_over))"
      ],
      "execution_count": 5,
      "outputs": [
        {
          "output_type": "stream",
          "text": [
            "True\n",
            "Yes, it's over!\n",
            "3.142857142857143\n",
            "None\n",
            "<class 'NoneType'>\n"
          ],
          "name": "stdout"
        }
      ]
    },
    {
      "cell_type": "code",
      "metadata": {
        "colab": {
          "base_uri": "https://localhost:8080/"
        },
        "id": "l7Wt9DfaYnFM",
        "outputId": "2a7bb132-8219-428c-90f8-0b84840f7f5e"
      },
      "source": [
        "single_qoute = 'hello'\n",
        "double_qoute = \"hello\"\n",
        "print(single_qoute)\n",
        "print(double_qoute)\n",
        "\n",
        "qoute = 'he said, \"hello there!\"'\n",
        "print(qoute)\n",
        "qoute = \"he said, 'hello there'\"\n",
        "print(qoute)\n",
        "\n",
        "qoute = \"he said, \\\"hello there!\\\"\"\n",
        "print(qoute)\n",
        "\n",
        "#string concatenation\n",
        "username = \"mhkm\"\n",
        "msg = \"Hello \" + username\n",
        "print(msg)\n",
        "\n",
        "#Formatting String\n",
        "name = \"Humayun\"\n",
        "msg = f\"Hello Mr. {name} Welcome!\"\n",
        "msg2 = \"Hello Mr. {} Welcome!\".format(name)\n",
        "print(msg)\n",
        "print(msg2)\n"
      ],
      "execution_count": 6,
      "outputs": [
        {
          "output_type": "stream",
          "text": [
            "hello\n",
            "hello\n",
            "he said, \"hello there!\"\n",
            "he said, 'hello there'\n",
            "he said, \"hello there!\"\n",
            "Hello mhkm\n",
            "Hello Mr. Humayun Welcome!\n",
            "Hello Mr. Humayun Welcome!\n"
          ],
          "name": "stdout"
        }
      ]
    },
    {
      "cell_type": "code",
      "metadata": {
        "colab": {
          "base_uri": "https://localhost:8080/"
        },
        "id": "dTzSVH_QZLAE",
        "outputId": "1303e950-31a0-4a60-fa97-633de383b36d"
      },
      "source": [
        "intx = 10\n",
        "print(type(intx))\n",
        "\n",
        "floatx = float(intx)\n",
        "print(floatx)"
      ],
      "execution_count": 7,
      "outputs": [
        {
          "output_type": "stream",
          "text": [
            "<class 'int'>\n",
            "10.0\n"
          ],
          "name": "stdout"
        }
      ]
    },
    {
      "cell_type": "code",
      "metadata": {
        "colab": {
          "base_uri": "https://localhost:8080/"
        },
        "id": "iC_uzEdjZy3J",
        "outputId": "b2293002-dbed-41c7-d45c-9f21ba9d056a"
      },
      "source": [
        "print(\"How many KM did you cycle today?\")\n",
        "# by default input return string input\n",
        "kms = float(input())\n",
        "miles = kms/1.61\n",
        "# precisions\n",
        "miles = round(miles, 3)\n",
        "print(f\"Your {kms} KM is {miles} Miles\")"
      ],
      "execution_count": 8,
      "outputs": [
        {
          "output_type": "stream",
          "text": [
            "How many KM did you cycle today?\n",
            "56\n",
            "Your 56.0 KM is 34.783 Miles\n"
          ],
          "name": "stdout"
        }
      ]
    },
    {
      "cell_type": "code",
      "metadata": {
        "colab": {
          "base_uri": "https://localhost:8080/"
        },
        "id": "liBdQx4La3qC",
        "outputId": "c2b8494a-9388-4fac-b698-a4ed756f43d2"
      },
      "source": [
        "print(\"What's your favorite color?\")\n",
        "color = input()\n",
        "print(\"Your color is: \" + color)"
      ],
      "execution_count": 10,
      "outputs": [
        {
          "output_type": "stream",
          "text": [
            "What's your favorite color?\n",
            "yellow\n",
            "Your color is: yellow\n"
          ],
          "name": "stdout"
        }
      ]
    },
    {
      "cell_type": "code",
      "metadata": {
        "colab": {
          "base_uri": "https://localhost:8080/"
        },
        "id": "nir24RSNbblW",
        "outputId": "8f84ec23-a064-4558-85af-b5032988d897"
      },
      "source": [
        "name = \"humayun\"\n",
        "\n",
        "if name is \"humayun\":\n",
        "    print(\"First Name\")\n",
        "elif name is \"kabir\":\n",
        "    print(\"Last Name\")\n",
        "else:\n",
        "    print(\"Wrong Name\")\n",
        "\n",
        "name = \"kabir\"\n",
        "if name == \"humayun\":\n",
        "    print(\"First Name\")\n",
        "elif name == \"kabir\":\n",
        "    print(\"Last Name\")\n",
        "else:\n",
        "    print(\"Wrong Name\")"
      ],
      "execution_count": 11,
      "outputs": [
        {
          "output_type": "stream",
          "text": [
            "First Name\n",
            "Last Name\n"
          ],
          "name": "stdout"
        }
      ]
    },
    {
      "cell_type": "code",
      "metadata": {
        "colab": {
          "base_uri": "https://localhost:8080/"
        },
        "id": "HKLWFJB9byg6",
        "outputId": "3475e735-b791-430b-d64a-75e18d9187ed"
      },
      "source": [
        "print(\"Give a rating on my work(out of 5)!\")\n",
        "rate = int(input())\n",
        "\n",
        "if rate is 5:\n",
        "    print(\"Excellent\")\n",
        "elif rate is 4:\n",
        "    print(\"Very Good\")\n",
        "elif rate is 3:\n",
        "    print(\"Good\")\n",
        "elif rate is 2:\n",
        "    print(\"Not Good\")\n",
        "elif rate is 1:\n",
        "    print(\"Bad\")\n",
        "else:\n",
        "    print(\"Rating should be in 1 to 5\")"
      ],
      "execution_count": 12,
      "outputs": [
        {
          "output_type": "stream",
          "text": [
            "Give a rating on my work(out of 5)!\n",
            "5\n",
            "Excellent\n"
          ],
          "name": "stdout"
        }
      ]
    },
    {
      "cell_type": "code",
      "metadata": {
        "colab": {
          "base_uri": "https://localhost:8080/"
        },
        "id": "MNSjAUQecKXC",
        "outputId": "2b71cc0d-bc7d-4653-cdfc-1d9978297e0e"
      },
      "source": [
        "age, sex = 20, \"Female\"\n",
        "\n",
        "if age > 18 and sex is \"Female\":\n",
        "    print(\"Go and Get Marry\")\n",
        "else:\n",
        "    print(\"You don't have marry\")"
      ],
      "execution_count": 13,
      "outputs": [
        {
          "output_type": "stream",
          "text": [
            "Go and Get Marry\n"
          ],
          "name": "stdout"
        }
      ]
    },
    {
      "cell_type": "code",
      "metadata": {
        "colab": {
          "base_uri": "https://localhost:8080/"
        },
        "id": "amRhwXZhcrsA",
        "outputId": "2ca6fcd0-67af-4b43-8b37-aa2fe1c0e9fc"
      },
      "source": [
        "import random\n",
        "\n",
        "print(\"Rock...\")\n",
        "print(\"Paper...\")\n",
        "print(\"Scissor...\")\n",
        "\n",
        "options = [\"rock\", \"papers\", \"scissors\"]\n",
        "print(\"Enter Your Move:\")\n",
        "me = input()\n",
        "\n",
        "rand = random.randint(0, 2)\n",
        "pc = options[rand]\n",
        "\n",
        "player_one = me\n",
        "player_two = pc\n",
        "\n",
        "print(f\"You Choose: {me}, PC choose {pc}\")\n",
        "\n",
        "if player_one == player_two:\n",
        "    print(\"Draw\")\n",
        "elif player_one == \"rock\":\n",
        "    if player_two == \"scissors\":\n",
        "        print(\"You WON!\")\n",
        "    elif player_two == \"papers\":\n",
        "        print(\"PC WON!\")\n",
        "elif player_one == \"papers\":\n",
        "    if player_two == \"rock\":\n",
        "        print(\"You WON!\")\n",
        "    elif player_two == \"scissors\":\n",
        "        print(\"PC WON!\")\n",
        "elif player_one == \"scissors\":\n",
        "    if player_two == \"rock\":\n",
        "        print(\"PC WON!\")\n",
        "    elif player_two == \"papers\":\n",
        "        print(\"You WON\")\n",
        "else:\n",
        "    print(\"Something Wrong!\")"
      ],
      "execution_count": 14,
      "outputs": [
        {
          "output_type": "stream",
          "text": [
            "Rock...\n",
            "Paper...\n",
            "Scissor...\n",
            "Enter Your Move:\n",
            "hhh\n",
            "You Choose: hhh, PC choose scissors\n",
            "Something Wrong!\n"
          ],
          "name": "stdout"
        }
      ]
    },
    {
      "cell_type": "code",
      "metadata": {
        "colab": {
          "base_uri": "https://localhost:8080/"
        },
        "id": "WnknYrLTdeBv",
        "outputId": "f1f3b205-c750-4f44-f809-326a7181e5b2"
      },
      "source": [
        "print(\"Rock...\")\n",
        "print(\"Paper...\")\n",
        "print(\"Scissor...\")\n",
        "\n",
        "player_one = input(\"Player 1, Make your move:\")\n",
        "player_two = input(\"Player 2, Make your move:\")\n",
        "\n",
        "if player_one == player_two:\n",
        "    print(\"Draw\")\n",
        "elif player_one == \"rock\":\n",
        "    if player_two == \"scissors\":\n",
        "        print(\"Player 1 WON!\")\n",
        "    elif player_two == \"papers\":\n",
        "        print(\"Palyer 2 WON\")\n",
        "elif player_one == \"papers\":\n",
        "    if player_two == \"rock\":\n",
        "        print(\"Palyer 1 WON\")\n",
        "    elif player_two == \"scissors\":\n",
        "        print(\"Palyer 2 WON\")\n",
        "elif player_one == \"scissors\":\n",
        "    if player_two == \"rock\":\n",
        "        print(\"Palyer 2 WON\")\n",
        "    elif player_two == \"papers\":\n",
        "        print(\"Palyer 1 WON\")\n",
        "else:\n",
        "    print(\"Something Wrong!\")"
      ],
      "execution_count": 15,
      "outputs": [
        {
          "output_type": "stream",
          "text": [
            "Rock...\n",
            "Paper...\n",
            "Scissor...\n",
            "Player 1, Make your move:pappers\n",
            "Player 2, Make your move:rock\n",
            "Something Wrong!\n"
          ],
          "name": "stdout"
        }
      ]
    },
    {
      "cell_type": "code",
      "metadata": {
        "colab": {
          "base_uri": "https://localhost:8080/"
        },
        "id": "lws-lDZqf9EQ",
        "outputId": "a93b9a19-8269-497c-b069-78e9d22d223d"
      },
      "source": [
        "name = \"mhhhhhhhh\"\n",
        "\n",
        "for char in name:\n",
        "    print(char)\n",
        "\n",
        "# range(a, b, c): >=a to < b, c is the weight of each step[optional]\n",
        "for number in range(-3, 5, 2):\n",
        "    print(number)\n",
        "\n",
        "prices = [10, 12, 15, 9, 11, 13]\n",
        "\n",
        "for price in prices:\n",
        "    print(price)\n",
        "\n",
        "for _ in range(4):\n",
        "    print(\"lol\")"
      ],
      "execution_count": 16,
      "outputs": [
        {
          "output_type": "stream",
          "text": [
            "m\n",
            "h\n",
            "h\n",
            "h\n",
            "h\n",
            "h\n",
            "h\n",
            "h\n",
            "h\n",
            "-3\n",
            "-1\n",
            "1\n",
            "3\n",
            "10\n",
            "12\n",
            "15\n",
            "9\n",
            "11\n",
            "13\n",
            "lol\n",
            "lol\n",
            "lol\n",
            "lol\n"
          ],
          "name": "stdout"
        }
      ]
    },
    {
      "cell_type": "code",
      "metadata": {
        "colab": {
          "base_uri": "https://localhost:8080/"
        },
        "id": "5cidNQwlkJM7",
        "outputId": "f58da225-2cb2-4cfc-cfaf-c04afd750f0d"
      },
      "source": [
        "val = 1\n",
        "\n",
        "while val < 20:\n",
        "    print(val)\n",
        "    val += 4\n",
        "\n",
        "print(\"what's the password?\")\n",
        "msg = input()\n",
        "while msg != \"lana\":\n",
        "    print(\"WRONG!\")\n",
        "    print(\"what's the password?\")\n",
        "    msg = input()\n",
        "print(\"CORRECT!\")"
      ],
      "execution_count": 17,
      "outputs": [
        {
          "output_type": "stream",
          "text": [
            "1\n",
            "5\n",
            "9\n",
            "13\n",
            "17\n",
            "what's the password?\n",
            "17\n",
            "WRONG!\n",
            "what's the password?\n",
            "1\n",
            "WRONG!\n",
            "what's the password?\n",
            "lana\n",
            "CORRECT!\n"
          ],
          "name": "stdout"
        }
      ]
    },
    {
      "cell_type": "code",
      "metadata": {
        "id": "Be2r03Edl8vx"
      },
      "source": [
        ""
      ],
      "execution_count": null,
      "outputs": []
    }
  ]
}